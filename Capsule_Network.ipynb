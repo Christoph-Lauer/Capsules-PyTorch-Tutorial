{
 "cells": [
  {
   "cell_type": "markdown",
   "metadata": {},
   "source": [
    "# Capsule Network\n",
    "\n",
    "In this notebook, I'll be building a simple Capsule Network that aims to classify MNIST images. This is an implementation in PyTorch and this notebook assumes that you are already familiar with [convolutional and fully-connected layers](https://cezannec.github.io/Convolutional_Neural_Networks/). \n",
    "\n",
    "### What are Capsules?\n",
    "\n",
    "Capsules are a small group of neurons that have a few key traits:\n",
    "* Each neuron in a capsule represents various properties of a particular image part; properties like a parts color, width, etc. \n",
    "* Every capsule **outputs a vector**, which has some magnitude (that represents the probability of a part's **existence**) and orientation (that represents a part's generalized pose).\n",
    "* A capsule network is made of multiple layers of capsules; during training, this network aims to learn the spatial relationships between the parts and whole of an object (ex. how the position of eyes and a nose relate to the position of a whole face in an image).\n",
    "* Capsules represent relationships between parts of a whole object by using **dynamic routing** to weight the connections between one layer of capsules and the next and creating strong connections between spatially-related object parts. \n",
    "\n",
    "<img src='assets/cat_face_2.png' width=50% />\n",
    "\n",
    "You can read more about all of these traits in [my blog post about capsules and dynamic routing](https://cezannec.github.io/Capsule_Networks/).\n",
    "\n",
    "### Representing Relationships Between Parts\n",
    "\n",
    "All of these traits allow capsules to communicate with each other and determine how data moves through them. Using dynamic communication, during the training process, a capsule network learns the **spatial relationships** between visual parts and their wholes (ex. between eyes, a nose, and a mouth on a face). When compared to a vanilla CNN, this knowledge about spatial relationships makes it easier for a capsule network to identify an object no matter what orientation it is in. These networks are also better able to identify multiple, overlapping objects, and learn from smaller sets of training data! \n",
    "\n",
    "---\n",
    "## Model Architecture\n",
    "\n",
    "The Capsule Network that I'll define is made of two main parts:\n",
    "1. A convolutional encoder\n",
    "2. A fully-connected, linear decoder\n",
    "\n",
    "I'll be following the architecture described [in the original Capsule Network paper](https://arxiv.org/pdf/1710.09829.pdf). I'll describe each layer in more detail as I define it in this notebook, but first let's load in our resources and MNIST data. I'm also setting a random seed, for reproducibility."
   ]
  },
  {
   "cell_type": "code",
   "execution_count": 1,
   "metadata": {},
   "outputs": [
    {
     "data": {
      "text/plain": [
       "<torch._C.Generator at 0x103fa9070>"
      ]
     },
     "execution_count": 1,
     "metadata": {},
     "output_type": "execute_result"
    }
   ],
   "source": [
    "# import resources\n",
    "import numpy as np\n",
    "import torch\n",
    "\n",
    "# random seed (for reproducibility)\n",
    "seed = 1\n",
    "# set random seed for numpy\n",
    "np.random.seed(seed)\n",
    "# set random seed for pytorch\n",
    "torch.manual_seed(seed)"
   ]
  },
  {
   "cell_type": "markdown",
   "metadata": {},
   "source": [
    "### Obtain the [Data](http://pytorch.org/docs/stable/torchvision/datasets.html)\n",
    "\n",
    "Downloading may take a few moments, and you should see your progress as the data is loading. You may also choose to change the `batch_size` parameter, if you want to load more data at a time, but the included parameters are fine to leave as is.\n",
    "\n",
    "This cell will create `DataLoaders` for the training and test sets."
   ]
  },
  {
   "cell_type": "code",
   "execution_count": 2,
   "metadata": {},
   "outputs": [],
   "source": [
    "from torchvision import datasets\n",
    "import torchvision.transforms as transforms\n",
    "\n",
    "# number of subprocesses to use for data loading\n",
    "num_workers = 0\n",
    "# how many samples per batch to load\n",
    "batch_size = 20\n",
    "\n",
    "# convert data to Tensors\n",
    "transform = transforms.ToTensor()\n",
    "\n",
    "# choose the training and test datasets\n",
    "train_data = datasets.MNIST(root='data', train=True,\n",
    "                            download=True, transform=transform)\n",
    "\n",
    "test_data = datasets.MNIST(root='data', train=False, \n",
    "                           download=True, transform=transform)\n",
    "\n",
    "# prepare data loaders\n",
    "train_loader = torch.utils.data.DataLoader(train_data, \n",
    "                                           batch_size=batch_size, \n",
    "                                           num_workers=num_workers)\n",
    "\n",
    "test_loader = torch.utils.data.DataLoader(test_data, \n",
    "                                          batch_size=batch_size, \n",
    "                                          num_workers=num_workers)"
   ]
  },
  {
   "cell_type": "markdown",
   "metadata": {},
   "source": [
    "### Visualize Training Data\n",
    "\n",
    "The first step in a classification task is to take a look at the data, make sure it is loaded in correctly, then make any initial observations about patterns in that data. \n",
    "> Each image is `28` pixels in width and height and `1` in depth. I'll sometimes write this as an image with dimensions `(28, 28, 1)`.\n",
    "\n",
    "If you recall, the depth is just the number of color channels in an image, so 1 is the depth for a grayscale image and 3 is the depth for an RGB image."
   ]
  },
  {
   "cell_type": "code",
   "execution_count": 3,
   "metadata": {},
   "outputs": [
    {
     "name": "stderr",
     "output_type": "stream",
     "text": [
      "/var/folders/4d/tc7fvtl52bq1jbztdqv67lz00000gn/T/ipykernel_84309/568811641.py:12: MatplotlibDeprecationWarning: Passing non-integers as three-element position specification is deprecated since 3.3 and will be removed two minor releases later.\n",
      "  ax = fig.add_subplot(2, batch_size/2, idx+1, xticks=[], yticks=[])\n"
     ]
    },
    {
     "data": {
      "image/png": "[encoded data removed]",
      "text/plain": [
       "<Figure size 1800x288 with 20 Axes>"
      ]
     },
     "metadata": {},
     "output_type": "display_data"
    }
   ],
   "source": [
    "import matplotlib.pyplot as plt\n",
    "%matplotlib inline\n",
    "    \n",
    "# obtain one batch of training images\n",
    "dataiter = iter(train_loader)\n",
    "images, labels = dataiter.next()\n",
    "images = images.numpy()\n",
    "\n",
    "# plot the images in the batch, along with the corresponding labels\n",
    "fig = plt.figure(figsize=(25, 4))\n",
    "for idx in np.arange(batch_size):\n",
    "    ax = fig.add_subplot(2, batch_size/2, idx+1, xticks=[], yticks=[])\n",
    "    ax.imshow(np.squeeze(images[idx]), cmap='gray')\n",
    "    # print out the correct label for each image\n",
    "    # .item() gets the value contained in a Tensor\n",
    "    ax.set_title(str(labels[idx].item()))"
   ]
  },
  {
   "cell_type": "markdown",
   "metadata": {},
   "source": [
    "---\n",
    "# Encoder\n",
    "\n",
    "The encoder is made of a series of layers that are responsible for taking in as input a 28 by 28 MNIST image and learning to encode it into a 16-dimensional output vector.\n",
    "\n",
    "<img src='assets/capsule_encoder.png' width=70%/>\n",
    "\n",
    "(Image from [the original Capsule Network paper](https://arxiv.org/pdf/1710.09829.pdf))\n",
    "\n",
    "## First Layer: Convolutional Layer\n",
    "\n",
    "The first layer in our encoder is a convolutional layer that will learn to extract features, like edges, in a given input image. \n",
    "> In the original paper, this first convolutional layer has a `depth=256`, and uses a `kernel_size=9`, `stride=1`, and `padding=0`. This also calls for a `ReLu` activation on the outputs.\n",
    "\n",
    "So, this convolutional layer will create a stack of 256 filtered images, given one input MNIST image. \n",
    "\n",
    "For a 28x28 input image, a 9x9 kernel will not be able to perfectly overlay on the edges pixels of an image and, without any padding, I'll actually lose a border of 4 pixels on *each* side of the image as I filter it. So, for an input of size `(batch_size, 28, 28, 1)`, I'll get an output, convolutional layer with the dimensions `(batch_size, 20, 20, 256)`. And `batch_size` is just the number of input images that are processed in a batch; defined above in the `DataLoader` as `20`."
   ]
  },
  {
   "cell_type": "code",
   "execution_count": 4,
   "metadata": {},
   "outputs": [],
   "source": [
    "import torch.nn as nn\n",
    "import torch.nn.functional as F"
   ]
  },
  {
   "cell_type": "code",
   "execution_count": 5,
   "metadata": {},
   "outputs": [],
   "source": [
    "class ConvLayer(nn.Module):\n",
    "    \n",
    "    def __init__(self, in_channels=1, out_channels=256):\n",
    "        '''Constructs the ConvLayer with a specified input and output size.\n",
    "           param in_channels: input depth of an image, default value = 1\n",
    "           param out_channels: output depth of the convolutional layer, default value = 256\n",
    "           '''\n",
    "        super(ConvLayer, self).__init__()\n",
    "\n",
    "        # defining a convolutional layer of the specified size\n",
    "        self.conv = nn.Conv2d(in_channels, out_channels, \n",
    "                              kernel_size=9, stride=1, padding=0)\n",
    "\n",
    "    def forward(self, x):\n",
    "        '''Defines the feedforward behavior.\n",
    "           param x: the input to the layer; an input image\n",
    "           return: a relu-activated, convolutional layer\n",
    "           '''\n",
    "        # applying a ReLu activation to the outputs of the conv layer\n",
    "        features = F.relu(self.conv(x)) # will have dimensions (batch_size, 20, 20, 256)\n",
    "        return features\n",
    "    "
   ]
  },
  {
   "cell_type": "markdown",
   "metadata": {},
   "source": [
    "## Second Layer: Primary Capsules\n",
    "\n",
    "This layer is composed of 8 \"primary\" capsules, so called because they are the first layer of capsules. They take the output of the previously defined, convolutional layer as input and produce a set of output vectors. Essentially, each capsule is responsible for producing weighted combinations of the features detected in the previous convolutional layer. \n",
    "\n",
    "As per the paper, to get the output of one capsule, I'll:\n",
    ">* Define a convolutional layer with a `depth=32`, `kernel_size=9`, `**stride=2**`, and `padding=0` and apply it to the features from the previous layer.\n",
    "* By applying a convolutional layer to features of size `(batch_size, 20, 20, 256)`, I will get a `(batch_size, 6, 6, 32)` Tensor as output for each of the 8 capsules. \n",
    "* I'll **reshape** this into an output vector using `.view(batch_size, 32*6*6, 1)`, for each of our 8 capsules and then stack those vectors.\n",
    "* Finally, I'll **squash** all of these vector; this is a nonlinear normalization step that forces the magnitude of the vectors to be in the range 0-1. \n",
    "\n",
    "#### A note on calculating dimensions\n",
    "\n",
    "You may be wondering how I got from 20x20 to 6x6.\n",
    "\n",
    "Again, I'm creating a border of 4 pixels on each side with a kernel_size of 9. So, I'll go from an x-y size of 20 - 4 on *all* sides to a size of 12. Then, with a `stride=2`, I'm efectively downsampling the previous inputs by a factor of 2, so I go from an x-y size of 12, divided by 2, to get an x-y size of 6. And you can read more about these precise output dimension calculations [at this Stanford cs231n page](http://cs231n.github.io/convolutional-networks/#conv) in the section on **spatial arrangement**.\n",
    "\n",
    "### Squashing\n",
    "\n",
    "> The magnitude of an output, capsule vector is a value between 0 and 1 that indicates the probability that a visual part (eyes, nose, etc.) exists and has been detected in an image. \n",
    "\n",
    "To get this probability value, I define a nonlinear function `squash` that calculates a certain capsule's normalized, vector output using the following equation. \n",
    "\n",
    "$$ v_j = \\frac{||\\ s_j^2\\ ||\\ s_j }{1 + ||\\ s_j^2\\ ||\\ s_j } $$\n",
    "\n",
    "$v_j$ is the value I want to calculate, the normalized vector output of a capsule $j$. And $s_j$ is that capsule's total input; a weighted sum over all the output vectors from the capsules in the layer *below* capsule $j$. For all but the primary capsule layer, you can think of the weighted inputs as the number of smaller *parts* that think they are part of a larger whole. The idea is that if you detect a nose and eyes in one layer, with some probability (the magnitude of a vector), this is evidence that a larger face exists in the next layer.\n",
    "\n",
    "> The `squash` function is a nonlinear function of the weighted inputs to a single capsule. It ensures that the magnitude of $v_j$ is a value between 0 and 1.\n",
    "\n",
    "#### ModuleList\n",
    "\n",
    "Below, I'm taking advantage of PyTorch's [nn.ModuleList](https://pytorch.org/docs/stable/nn.html#modulelist) container to create a list of convolutional layers that is as long as my number of passed in capsules, `num_capsules`."
   ]
  },
  {
   "cell_type": "code",
   "execution_count": 6,
   "metadata": {},
   "outputs": [],
   "source": [
    "class PrimaryCaps(nn.Module):\n",
    "    \n",
    "    def __init__(self, num_capsules=8, in_channels=256, out_channels=32):\n",
    "        '''Constructs a list of convolutional layers to be used in \n",
    "           creating capsule output vectors.\n",
    "           param num_capsules: number of capsules to create\n",
    "           param in_channels: input depth of features, default value = 256\n",
    "           param out_channels: output depth of the convolutional layers, default value = 32\n",
    "           '''\n",
    "        super(PrimaryCaps, self).__init__()\n",
    "\n",
    "        # creating a list of convolutional layers for each capsule I want to create\n",
    "        # all capsules have a conv layer with the same parameters\n",
    "        self.capsules = nn.ModuleList([\n",
    "            nn.Conv2d(in_channels=in_channels, out_channels=out_channels, \n",
    "                      kernel_size=9, stride=2, padding=0)\n",
    "            for _ in range(num_capsules)])\n",
    "    \n",
    "    def forward(self, x):\n",
    "        '''Defines the feedforward behavior.\n",
    "           param x: the input; features from a convolutional layer\n",
    "           return: a set of normalized, capsule output vectors\n",
    "           '''\n",
    "        # get batch size of inputs\n",
    "        batch_size = x.size(0)\n",
    "        # reshape convolutional layer outputs to be (batch_size, vector_dim=1152, 1)\n",
    "        u = [capsule(x).view(batch_size, 32 * 6 * 6, 1) for capsule in self.capsules]\n",
    "        # stack up output vectors, u, one for each capsule\n",
    "        u = torch.cat(u, dim=-1)\n",
    "        # squashing the stack of vectors\n",
    "        u_squash = self.squash(u)\n",
    "        return u_squash\n",
    "    \n",
    "    def squash(self, input_tensor):\n",
    "        '''Squashes an input Tensor so it has a magnitude between 0-1.\n",
    "           param input_tensor: a stack of capsule inputs, s_j\n",
    "           return: a stack of normalized, capsule output vectors, v_j\n",
    "           '''\n",
    "        squared_norm = (input_tensor ** 2).sum(dim=-1, keepdim=True)\n",
    "        scale = squared_norm / (1 + squared_norm) # normalization coeff\n",
    "        output_tensor = scale * input_tensor / torch.sqrt(squared_norm)    \n",
    "        return output_tensor\n",
    "    "
   ]
  },
  {
   "cell_type": "markdown",
   "metadata": {},
   "source": [
    "## Third Layer: Digit Capsules\n",
    "\n",
    "This layer is composed of 10 \"digit\" capsules, one for each of our digit classes 0-9. Each capsule takes, as input, a batch of 1152-dimensional vectors produced by our 8 primary capsules, above. \n",
    "\n",
    "> This is the final layer of the encoder portion of the network, and each of these 10 capsules is responsible for producing a 16-dimensional output vector.\n",
    "\n",
    "In other words, this layer is mapping from 1152-dimensional, input vector space to 16-dimensional, output vector space. This is also where you'll see **dynamic routing** implemented."
   ]
  },
  {
   "cell_type": "markdown",
   "metadata": {},
   "source": [
    "## Dynamic Routing\n",
    "\n",
    "Dynamic routing is a process for finding the *best* connections between the output of one layer of capsules and the inputs of the next layer of capsules. It allows capsules to communicate with each other and determine how data moves through them! \n",
    "> No matter what kind of input image a capsule network sees, dynamic routing ensures that the output of a *child* capsule in the `PrimaryCaps` layer will be sent to the most-relevant *parent* capsule in this `DigitCaps` layer.\n",
    "\n",
    "### Coupling Coefficients\n",
    "\n",
    "When a capsule network is initialized, the primary capsules are not sure which parents (digit capsules) their outputs should go to. In fact, each primary capsule starts out with a list of **possible parents** that starts out as *all* of the parent capsules in the next layer. \n",
    "\n",
    "> This possible relationship is represented by a value called the **coupling coefficient**, **c**, which is the probability that a certain capsule’s output should go to a parent capsule in the next layer. \n",
    "\n",
    "Examples of coupling coefficients, written on the connecting lines between a child and its possible parent nodes, are pictured below. A child node with two possible parents will start out with equal coupling coefficients for both: 0.5.\n",
    "\n",
    "<img src='assets/coupling_coeff.png' width=30%/>\n",
    "\n",
    "(Image from [my blog post on Capsule Nets](https://cezannec.github.io/Capsule_Networks/))\n",
    "\n",
    "The coupling coefficients across all possible parents can be pictured as a discrete probability distribution. Across all connections between one child capsule and all possible parent capsules, the coupling coefficients should sum to 1.\n",
    "\n",
    "\n",
    "### Routing by Agreement\n",
    "\n",
    "Dynamic routing is an iterative process that updates these coupling coefficients. The coupling coefficients $c_{ij}$ between capsule $i$ and all the capsules $j$ in the layer above it sum to 1 and are determined by a routing **softmax** function whose initial logits $b_{ij}$ are the log prior probabilities that capsule $i$ *should* be coupled to capsule $j$. There are as many $b_{ij}$ as there are possible connections between the output vector of a primary capsule (length 1152) and digit capsules (10).\n",
    "\n",
    "\n",
    "$$c_{ij} = \\frac{e^{\\ b_{ij}}}{\\sum_{k}\\ {e^{\\ b_{ik}}}} $$\n",
    "\n",
    "The update process, performed during network training, is as follows for a single capsule:\n",
    "\n",
    "> 1. Every child capsule will output some vector $u$, whose magnitude indicates a part's *existence* and whose orientation represents the generalized pose of the part.\n",
    "2. For each possible parent, a child capsule computes a prediction vector, $\\hat{u}$, which is a function of its output vector, $u$, times a weight matrix, $W$. $W$ represents a linear transformation in space—like some rotation and translation—$\\hat{u}$ can be thought of as a prediction about the position and orientation of a parent capsule's output vector.\n",
    "3. If the prediction vector, $\\hat{u}$, has a large **dot product** with the parent capsule output vector, $v$, then those vectors are said to **agree** and the coupling coefficient between *that* parent and the child capsule increases while the coupling coefficient between that child capsule and *all other* parents, decreases.\n",
    "4. This dot product between the parent output vector, $v$, and a prediction vector, $\\hat{u}$, is known as a formal measure of capsule **agreement**, $a$.\n",
    "5. This agreement then affects how informaton is weighted as it moved through the network.\n",
    "6. A new $b_{ij}$ is calculated as the *current* $b_{ij}$ plus $a$.\n",
    "7. New coupling coefficients $c_{ij}$ are calculated using the above softmax formula and the new $b_{ij}$.\n",
    "\n",
    "$$\\hat{u} = W u $$\n",
    "\n",
    "$$a = v \\cdot u $$\n",
    "\n",
    "$$b_{ij} = b_{ij} + a $$\n",
    "\n",
    "\n",
    "\n",
    "This is sometimes referred to as **top-down feedback**; feedback from a later layer of parent capsule outputs.\n",
    "\n",
    "**A typical training process may include *three* agreement iterations, in which $b_{ij}$ is updated (through steps 1-7), a total of three times to get to the final coupling coefficients that will be used to calculate final outputs, $v_j$.**\n",
    "\n",
    "> A high coupling coefficient, between a child and parent capsule, increases the contribution of the child to that parent, thus *further* aligning their two output vectors and making their agreement dot product even larger! This is called **routing by agreement**.\n",
    "\n",
    "I should note that this calculation changes how I calculate the total inputs to a digit capsule, $s_j$, when compared to the earlier, `PrimaryCaps` layer. In the `DigitCaps` case, $s_j$ is a sum of all the input vectors from the capsules in the layer *below*, $u$ times the weight matrix $W$, in other words $W u = \\hat{u}$, *also* multiplied by the coupling coefficients. The first layer of capsules sees only convolutional features as input and these features do not provide enough information for routing and using couping coefficients.\n",
    "\n",
    "$$ s_j = \\sum{c_{ij} \\ \\hat{u}}$$"
   ]
  },
  {
   "cell_type": "code",
   "execution_count": 7,
   "metadata": {},
   "outputs": [],
   "source": [
    "import helpers # to get transpose softmax function\n",
    "\n",
    "# dynamic routing\n",
    "def dynamic_routing(b_ij, u_hat, squash, routing_iterations=3):\n",
    "    '''Performs dynamic routing between two capsule layers.\n",
    "       param b_ij: initial log probabilities that capsule i should be coupled to capsule j\n",
    "       param u_hat: input, weighted capsule vectors, W u\n",
    "       param squash: given, normalizing squash function\n",
    "       param routing_iterations: number of times to update coupling coefficients\n",
    "       return: v_j, output capsule vectors\n",
    "       '''    \n",
    "    # update b_ij, c_ij for number of routing iterations\n",
    "    for iteration in range(routing_iterations):\n",
    "        # softmax calculation of coupling coefficients, c_ij\n",
    "        c_ij = helpers.softmax(b_ij, dim=2)\n",
    "\n",
    "        # calculating total capsule inputs, s_j = sum(c_ij*u_hat)\n",
    "        s_j = (c_ij * u_hat).sum(dim=2, keepdim=True)\n",
    "\n",
    "        # squashing to get a normalized vector output, v_j\n",
    "        v_j = squash(s_j)\n",
    "\n",
    "        # if not on the last iteration, calculate agreement and new b_ij\n",
    "        if iteration < routing_iterations - 1:\n",
    "            # agreement\n",
    "            a_ij = (u_hat * v_j).sum(dim=-1, keepdim=True)\n",
    "            \n",
    "            # new b_ij\n",
    "            b_ij = b_ij + a_ij\n",
    "    \n",
    "    return v_j # return latest v_j\n",
    "    "
   ]
  },
  {
   "cell_type": "markdown",
   "metadata": {},
   "source": [
    "## Digit Capsules\n",
    "\n",
    "Now that I've defined the dynamic routing process, I can complete the `DigitCaps` class.\n",
    "* This layer is composed of 10 \"digit\" capsules, one for each of our digit classes 0-9. \n",
    "* Each capsule takes, as input, a batch of 1152-dimensional vectors produced by our 8 primary capsules, above. \n",
    "* Each of these 10 capsules is responsible for producing a **16-dimensional** output vector.\n",
    "\n",
    "I suggest you train on GPU for a faster training time, and I'm checking for the availability of a GPU device, below."
   ]
  },
  {
   "cell_type": "code",
   "execution_count": 8,
   "metadata": {},
   "outputs": [
    {
     "name": "stdout",
     "output_type": "stream",
     "text": [
      "Only CPU available\n"
     ]
    }
   ],
   "source": [
    "# it will also be relevant, in this model, to see if I can train on gpu\n",
    "TRAIN_ON_GPU = torch.cuda.is_available()\n",
    "\n",
    "if(TRAIN_ON_GPU):\n",
    "    print('Training on GPU!')\n",
    "else:\n",
    "    print('Only CPU available')\n",
    "    "
   ]
  },
  {
   "cell_type": "code",
   "execution_count": 9,
   "metadata": {},
   "outputs": [],
   "source": [
    "class DigitCaps(nn.Module):\n",
    "    \n",
    "    def __init__(self, num_capsules=10, previous_layer_nodes=32*6*6, \n",
    "                 in_channels=8, out_channels=16):\n",
    "        '''Constructs an initial weight matrix, W, and sets class variables.\n",
    "           param num_capsules: number of capsules to create\n",
    "           param previous_layer_nodes: dimension of input capsule vector, default value = 1152\n",
    "           param in_channels: number of capsules in previous layer, default value = 8\n",
    "           param out_channels: dimensions of output capsule vector, default value = 16\n",
    "           '''\n",
    "        super(DigitCaps, self).__init__()\n",
    "\n",
    "        # setting class variables\n",
    "        self.num_capsules = num_capsules\n",
    "        self.previous_layer_nodes = previous_layer_nodes # vector input (dim=1152)\n",
    "        self.in_channels = in_channels # previous layer's number of capsules\n",
    "\n",
    "        # starting out with a randomly initialized weight matrix, W\n",
    "        # these will be the weights connecting the PrimaryCaps and DigitCaps layers\n",
    "        self.W = nn.Parameter(torch.randn(num_capsules, previous_layer_nodes, \n",
    "                                          in_channels, out_channels))\n",
    "\n",
    "    def forward(self, u):\n",
    "        '''Defines the feedforward behavior.\n",
    "           param u: the input; vectors from the previous PrimaryCaps layer\n",
    "           return: a set of normalized, capsule output vectors\n",
    "           '''\n",
    "        \n",
    "        # adding batch_size dims and stacking all u vectors\n",
    "        u = u[None, :, :, None, :]\n",
    "        # 4D weight matrix\n",
    "        W = self.W[:, None, :, :, :]\n",
    "        \n",
    "        # calculating u_hat = W*u\n",
    "        u_hat = torch.matmul(u, W)\n",
    "\n",
    "        # getting the correct size of b_ij\n",
    "        # setting them all to 0, initially\n",
    "        b_ij = torch.zeros(*u_hat.size())\n",
    "        \n",
    "        # moving b_ij to GPU, if available\n",
    "        if TRAIN_ON_GPU:\n",
    "            b_ij = b_ij.cuda()\n",
    "\n",
    "        # update coupling coefficients and calculate v_j\n",
    "        v_j = dynamic_routing(b_ij, u_hat, self.squash, routing_iterations=3)\n",
    "\n",
    "        return v_j # return final vector outputs\n",
    "    \n",
    "    \n",
    "    def squash(self, input_tensor):\n",
    "        '''Squashes an input Tensor so it has a magnitude between 0-1.\n",
    "           param input_tensor: a stack of capsule inputs, s_j\n",
    "           return: a stack of normalized, capsule output vectors, v_j\n",
    "           '''\n",
    "        # same squash function as before\n",
    "        squared_norm = (input_tensor ** 2).sum(dim=-1, keepdim=True)\n",
    "        scale = squared_norm / (1 + squared_norm) # normalization coeff\n",
    "        output_tensor = scale * input_tensor / torch.sqrt(squared_norm)    \n",
    "        return output_tensor\n",
    "    "
   ]
  },
  {
   "cell_type": "markdown",
   "metadata": {},
   "source": [
    "This completes the encoder portion of the model! Next, the decoder.\n",
    "\n",
    "---\n",
    "# Decoder \n",
    "\n",
    "The decoder sees as input the 16-dimensional vectors that are produced by the `DigitCaps` layer. In the `forward` function, the decoder identifies the \"correct\" capsule output vector; this vector is the vector with the largest vector magnitude of all ten digit capsule outputs (recall that vector magnitude correspond to a part's **existence** in an image). Then, the decoder upsamples that one vector, decoding it into a reconstructed image of a handwritten digit. \n",
    "\n",
    "> The decoder is learning a mapping from a capsule output vector to a 784-dim vector that can be reshaped into a 28x28 reconstructed image. \n",
    "\n",
    "<img src='assets/capsule_decoder.png' width=60% />\n",
    "\n",
    "(Image from [the original Capsule Network paper](https://arxiv.org/pdf/1710.09829.pdf))\n",
    "\n",
    "I want this reconstructed image and the original, input image to be as close as possible! So, when I train this network, I'll look at the difference between the input image and this decoder reconstruction; any difference (measured as Euclidean distance) will be recorded as the loss.\n",
    "\n",
    "#### Reconstruction Loss\n",
    "I'll discuss the network loss in more detail later. For now, know that the authors use this decoder-based, reconstruction loss to encourage the digit capsules to learn to encode information about the content of the original input image.\n",
    "\n",
    "## Linear Layers\n",
    "\n",
    "The decoder is made of three fully-connected, linear layers. These are simply defined with an input_size and output_size. The first layer sees the 10, 16-dimensional output vectors from the digit capsule layer and produces `hidden_dim=512` number of outputs. The next hidden layer just increase this depth by two, and the third and final linear layer produces an output of 784 values that can be reshaped into a 28x28 image!\n",
    "\n",
    "The hidden layers have ReLu activations applied and the final, output layer has a **sigmoid** activation function to ensure that the outputs are all values in a valid pixel range 0-1."
   ]
  },
  {
   "cell_type": "code",
   "execution_count": 10,
   "metadata": {},
   "outputs": [],
   "source": [
    "class Decoder(nn.Module):\n",
    "    \n",
    "    def __init__(self, input_vector_length=16, input_capsules=10, hidden_dim=512):\n",
    "        '''Constructs an series of linear layers + activations.\n",
    "           param input_vector_length: dimension of input capsule vector, default value = 16\n",
    "           param input_capsules: number of capsules in previous layer, default value = 10\n",
    "           param hidden_dim: dimensions of hidden layers, default value = 512\n",
    "           '''\n",
    "        super(Decoder, self).__init__()\n",
    "        \n",
    "        # calculate input_dim\n",
    "        input_dim = input_vector_length * input_capsules\n",
    "        \n",
    "        # define linear layers + activations\n",
    "        self.linear_layers = nn.Sequential(\n",
    "            nn.Linear(input_dim, hidden_dim), # first hidden layer\n",
    "            nn.ReLU(inplace=True),\n",
    "            nn.Linear(hidden_dim, hidden_dim*2), # second, twice as deep\n",
    "            nn.ReLU(inplace=True),\n",
    "            nn.Linear(hidden_dim*2, 28*28), # can be reshaped into 28*28 image\n",
    "            nn.Sigmoid() # sigmoid activation to get output pixel values in a range from 0-1\n",
    "            )\n",
    "        \n",
    "    def forward(self, x):\n",
    "        '''Defines the feedforward behavior.\n",
    "           param x: the input; vectors from the previous DigitCaps layer\n",
    "           return: two things, reconstructed images and the class scores, y\n",
    "           '''\n",
    "        classes = (x ** 2).sum(dim=-1) ** 0.5\n",
    "        classes = F.softmax(classes, dim=-1)\n",
    "        \n",
    "        # find the capsule with the maximum vector length\n",
    "        # here, vector length indicates the probability of a class' existence\n",
    "        _, max_length_indices = classes.max(dim=1)\n",
    "        \n",
    "        # create a sparse class matrix\n",
    "        sparse_matrix = torch.eye(10) # 10 is the number of classes\n",
    "        if TRAIN_ON_GPU:\n",
    "            sparse_matrix = sparse_matrix.cuda()\n",
    "        # get the class scores from the \"correct\" capsule\n",
    "        y = sparse_matrix.index_select(dim=0, index=max_length_indices.data)\n",
    "        \n",
    "        # create reconstructed pixels\n",
    "        x = x * y[:, :, None]\n",
    "        # flatten image into a vector shape (batch_size, vector_dim)\n",
    "        flattened_x = x.contiguous().view(x.size(0), -1)\n",
    "        # create reconstructed image vectors\n",
    "        reconstructions = self.linear_layers(flattened_x)\n",
    "        \n",
    "        # return reconstructions and the class scores, y\n",
    "        return reconstructions, y"
   ]
  },
  {
   "cell_type": "markdown",
   "metadata": {},
   "source": [
    "## Put it All Together \n",
    "\n",
    "Finally, I'll use *all* the layers I defined above to create a complete Capsule Network! Recall that the order of these layers is as follows:\n",
    "1. ConvLayer\n",
    "2. PrimaryCaps\n",
    "3. DigitCaps\n",
    "4. Decoder\n",
    "\n",
    "And I specified all the default construction parameters.\n",
    "\n",
    "<img src='assets/complete_caps_net.png' width=80%/>\n",
    "\n",
    "(Image from [the original Capsule Network paper](https://arxiv.org/pdf/1710.09829.pdf))"
   ]
  },
  {
   "cell_type": "code",
   "execution_count": 11,
   "metadata": {},
   "outputs": [],
   "source": [
    "class CapsuleNetwork(nn.Module):\n",
    "    \n",
    "    def __init__(self):\n",
    "        '''Constructs a complete Capsule Network.'''\n",
    "        super(CapsuleNetwork, self).__init__()\n",
    "        self.conv_layer = ConvLayer()\n",
    "        self.primary_capsules = PrimaryCaps()\n",
    "        self.digit_capsules = DigitCaps()\n",
    "        self.decoder = Decoder()\n",
    "                \n",
    "    def forward(self, images):\n",
    "        '''Defines the feedforward behavior.\n",
    "           param images: the original MNIST image input data\n",
    "           return: output of DigitCaps layer, reconstructed images, class scores\n",
    "           '''\n",
    "        primary_caps_output = self.primary_capsules(self.conv_layer(images))\n",
    "        caps_output = self.digit_capsules(primary_caps_output).squeeze().transpose(0,1)\n",
    "        reconstructions, y = self.decoder(caps_output)\n",
    "        return caps_output, reconstructions, y\n",
    "    "
   ]
  },
  {
   "cell_type": "markdown",
   "metadata": {},
   "source": [
    "### Create the Complete Model\n",
    "\n",
    "I'm printing it out to see that I've defined a model with convolutional layers, primary and digit capsule layers, and a decoder."
   ]
  },
  {
   "cell_type": "code",
   "execution_count": 12,
   "metadata": {},
   "outputs": [
    {
     "name": "stdout",
     "output_type": "stream",
     "text": [
      "CapsuleNetwork(\n",
      "  (conv_layer): ConvLayer(\n",
      "    (conv): Conv2d(1, 256, kernel_size=(9, 9), stride=(1, 1))\n",
      "  )\n",
      "  (primary_capsules): PrimaryCaps(\n",
      "    (capsules): ModuleList(\n",
      "      (0): Conv2d(256, 32, kernel_size=(9, 9), stride=(2, 2))\n",
      "      (1): Conv2d(256, 32, kernel_size=(9, 9), stride=(2, 2))\n",
      "      (2): Conv2d(256, 32, kernel_size=(9, 9), stride=(2, 2))\n",
      "      (3): Conv2d(256, 32, kernel_size=(9, 9), stride=(2, 2))\n",
      "      (4): Conv2d(256, 32, kernel_size=(9, 9), stride=(2, 2))\n",
      "      (5): Conv2d(256, 32, kernel_size=(9, 9), stride=(2, 2))\n",
      "      (6): Conv2d(256, 32, kernel_size=(9, 9), stride=(2, 2))\n",
      "      (7): Conv2d(256, 32, kernel_size=(9, 9), stride=(2, 2))\n",
      "    )\n",
      "  )\n",
      "  (digit_capsules): DigitCaps()\n",
      "  (decoder): Decoder(\n",
      "    (linear_layers): Sequential(\n",
      "      (0): Linear(in_features=160, out_features=512, bias=True)\n",
      "      (1): ReLU(inplace=True)\n",
      "      (2): Linear(in_features=512, out_features=1024, bias=True)\n",
      "      (3): ReLU(inplace=True)\n",
      "      (4): Linear(in_features=1024, out_features=784, bias=True)\n",
      "      (5): Sigmoid()\n",
      "    )\n",
      "  )\n",
      ")\n"
     ]
    }
   ],
   "source": [
    "# instantiate and print net\n",
    "capsule_net = CapsuleNetwork()\n",
    "\n",
    "print(capsule_net)\n",
    "\n",
    "# move model to GPU, if available \n",
    "if TRAIN_ON_GPU:\n",
    "    capsule_net = capsule_net.cuda()"
   ]
  },
  {
   "cell_type": "markdown",
   "metadata": {},
   "source": [
    "## Custom Loss\n",
    "\n",
    "To prepare for training the model, I'll need to define a custom loss. The loss for a capsule network is a weighted combination of **two** losses:\n",
    "1. The **margin loss** that looks at the outputs of *all* the digit capsules and computes a loss term that is dependent on whether or not the selected \"correct\" digit capsule matches the correct class label.\n",
    "2. The **reconstruction loss** that looks at the original input images and how they differ from the decoder's produced, reconstructed images. \n",
    "\n",
    "The reconstruction loss is a simple mean squared error loss, which I will calculate as `nn.MSELoss`. And I explained that this acts as a kind of [regularization method](https://en.wikipedia.org/wiki/Regularization_(mathematics)), above. By regularization, I mean that it forces the 16 dimensions (in the output vectors from the `DigitCaps` layer) to correspond to meaningful content information; information that can then be used to *reconstruct* the original image. It is important to note that the authors of the original Capsule Net paper weighted this loss with a coefficient of `0.0005`, so that it wouldn't overpower the margin loss, and that is reflected in the code below.\n",
    "\n",
    "So, I really want to focus on describing this new type of loss, the margin loss.\n",
    "\n",
    "### Margin Loss\n",
    "\n",
    "Margin loss is a classification loss that is based on the length of the output vectors coming from the `DigitCaps` layer. Recall that the magnitude of a capsule output vector is a measure of a part's **existence**. So, for any input image of a handwritten digit, we want *one* particular digit capsule to output a long vector, indicating confidence in one particular digit class! This capsule is sometimes referred to as the \"correct\" capsule.\n",
    "\n",
    "Margin loss formalizes this idea; it says that if a certain digit (in this case a digit 0-9) is present in an image then the squared length of the corresponding output vector of that digit capsule must not be less than 0.9. So, if I have an input image of a 0, then the \"correct,\" zero-detecting, digit capsule should output a vector of magnitude 0.9 or greater! For all the other digits (1-9, in this example) the corresponding digit capsule output vectors should have a magnitude that is 0.1 or less.\n",
    "\n",
    "Suppose $x$ is the the output vector of the digit capsule for class $c$ (0-9). \n",
    "\n",
    "Now, if an image of class $c$ is present then the magnitude of $x$ should be equal to or greater than 0.9. The magnitude is the square root of a squared value, and I'll call that magnitude $v_c = \\sqrt{x^2}$, so $v_c >=0.9$. Similarly, if the class $c$ digit is *not* present in an image, then $v_c <=0.1$.  These values will be summed together to calculate the total, margin loss. Which you can see in the following formula.\n",
    "\n",
    "$$L_c = T_c(\\max[0, 0.9-v_c]) + \\lambda (1-T_c)(\\max[0, v_c-0.1])$$\n",
    "\n",
    "Where $T_c$ is a label 0 or 1 indicating whether a digit capsule vector is \"correct\" (1) or not (0). And $\\lambda$ is a value we choose for training; the researchers chose a value of `0.5`. These choices are reflected in the code below, *and* I'm using a ReLu function to get the maximum of 0 and another value.\n",
    "\n",
    "\n",
    "This loss will encourage our model to make the index of the \"correct\" capsule match the true class label of a given training image.\n"
   ]
  },
  {
   "cell_type": "code",
   "execution_count": 13,
   "metadata": {},
   "outputs": [],
   "source": [
    "class CapsuleLoss(nn.Module):\n",
    "    \n",
    "    def __init__(self):\n",
    "        '''Constructs a CapsuleLoss module.'''\n",
    "        super(CapsuleLoss, self).__init__()\n",
    "        self.reconstruction_loss = nn.MSELoss(reduction='sum') # cumulative loss, equiv to size_average=False\n",
    "\n",
    "    def forward(self, x, labels, images, reconstructions):\n",
    "        '''Defines how the loss compares inputs.\n",
    "           param x: digit capsule outputs\n",
    "           param labels: \n",
    "           param images: the original MNIST image input data\n",
    "           param reconstructions: reconstructed MNIST image data\n",
    "           return: weighted margin and reconstruction loss, averaged over a batch\n",
    "           '''\n",
    "        batch_size = x.size(0)\n",
    "\n",
    "        ##  calculate the margin loss   ##\n",
    "        \n",
    "        # get magnitude of digit capsule vectors, v_c\n",
    "        v_c = torch.sqrt((x**2).sum(dim=2, keepdim=True))\n",
    "\n",
    "        # calculate \"correct\" and incorrect loss\n",
    "        left = F.relu(0.9 - v_c).view(batch_size, -1)\n",
    "        right = F.relu(v_c - 0.1).view(batch_size, -1)\n",
    "        \n",
    "        # sum the losses, with a lambda = 0.5\n",
    "        margin_loss = labels * left + 0.5 * (1. - labels) * right\n",
    "        margin_loss = margin_loss.sum()\n",
    "\n",
    "        ##  calculate the reconstruction loss   ##\n",
    "        images = images.view(reconstructions.size()[0], -1)\n",
    "        reconstruction_loss = self.reconstruction_loss(reconstructions, images)\n",
    "\n",
    "        # return a weighted, summed loss, averaged over a batch size\n",
    "        return (margin_loss + 0.0005 * reconstruction_loss) / images.size(0)\n"
   ]
  },
  {
   "cell_type": "markdown",
   "metadata": {
    "collapsed": true
   },
   "source": [
    "### Specify Loss Function and [Optimizer](http://pytorch.org/docs/stable/optim.html)\n",
    "\n",
    "I'm using the custom loss I defined above, and the paper uses an Adam optimizer."
   ]
  },
  {
   "cell_type": "code",
   "execution_count": 14,
   "metadata": {},
   "outputs": [],
   "source": [
    "import torch.optim as optim\n",
    "\n",
    "# custom loss\n",
    "criterion = CapsuleLoss()\n",
    "\n",
    "# Adam optimizer with default params\n",
    "optimizer = optim.Adam(capsule_net.parameters())"
   ]
  },
  {
   "cell_type": "markdown",
   "metadata": {
    "collapsed": true
   },
   "source": [
    "---\n",
    "# Train the Network\n",
    "\n",
    "The steps for training/learning from a batch of data are described in the comments below:\n",
    "1. Clear the gradients of all optimized variables\n",
    "2. Forward pass: compute predicted outputs by passing inputs to the model\n",
    "3. Calculate the loss\n",
    "4. Backward pass: compute gradient of the loss with respect to model parameters\n",
    "5. Perform a single optimization step (parameter update)\n",
    "6. Update average training loss\n",
    "\n",
    "The following loop trains for some number of epochs and prints out the training loss intermittently; take a look at how the values for training loss decrease over time."
   ]
  },
  {
   "cell_type": "code",
   "execution_count": 15,
   "metadata": {},
   "outputs": [],
   "source": [
    "def train(capsule_net, criterion, optimizer, \n",
    "          n_epochs, print_every=300):\n",
    "    '''Trains a capsule network and prints out training batch loss statistics.\n",
    "       Saves model parameters if *validation* loss has decreased.\n",
    "       param capsule_net: trained capsule network\n",
    "       param criterion: capsule loss function\n",
    "       param optimizer: optimizer for updating network weights\n",
    "       param n_epochs: number of epochs to train for\n",
    "       param print_every: batches to print and save training loss, default = 100\n",
    "       return: list of recorded training losses\n",
    "       '''\n",
    "\n",
    "    # track training loss over time\n",
    "    losses = []\n",
    "\n",
    "    # one epoch = one pass over all training data \n",
    "    for epoch in range(1, n_epochs+1):\n",
    "\n",
    "        # initialize training loss\n",
    "        train_loss = 0.0\n",
    "        \n",
    "        capsule_net.train() # set to train mode\n",
    "    \n",
    "        # get batches of training image data and targets\n",
    "        for batch_i, (images, target) in enumerate(train_loader):\n",
    "\n",
    "            # reshape and get target class\n",
    "            target = torch.eye(10).index_select(dim=0, index=target)\n",
    "\n",
    "            if TRAIN_ON_GPU:\n",
    "                images, target = images.cuda(), target.cuda()\n",
    "\n",
    "            # zero out gradients\n",
    "            optimizer.zero_grad()\n",
    "            # get model outputs\n",
    "            caps_output, reconstructions, y = capsule_net(images)\n",
    "            # calculate loss\n",
    "            loss = criterion(caps_output, target, images, reconstructions)\n",
    "            # perform backpropagation and optimization\n",
    "            loss.backward()\n",
    "            optimizer.step()\n",
    "\n",
    "            train_loss += loss.item() # accumulated training loss\n",
    "            \n",
    "            # print and record training stats\n",
    "            if batch_i != 0 and batch_i % print_every == 0:\n",
    "                avg_train_loss = train_loss/print_every\n",
    "                losses.append(avg_train_loss)\n",
    "                print('Epoch: {} \\tTraining Loss: {:.8f}'.format(epoch, avg_train_loss))\n",
    "                train_loss = 0 # reset accumulated training loss\n",
    "        \n",
    "    return losses\n",
    "    "
   ]
  },
  {
   "cell_type": "code",
   "execution_count": 16,
   "metadata": {},
   "outputs": [
    {
     "name": "stdout",
     "output_type": "stream",
     "text": [
      "Epoch: 1 \tTraining Loss: 0.25195301\n",
      "Epoch: 1 \tTraining Loss: 0.09810376\n",
      "Epoch: 1 \tTraining Loss: 0.07608829\n",
      "Epoch: 1 \tTraining Loss: 0.06085668\n",
      "Epoch: 1 \tTraining Loss: 0.06089257\n",
      "Epoch: 1 \tTraining Loss: 0.05473682\n",
      "Epoch: 1 \tTraining Loss: 0.05101300\n",
      "Epoch: 1 \tTraining Loss: 0.05062282\n",
      "Epoch: 1 \tTraining Loss: 0.04832756\n",
      "Epoch: 2 \tTraining Loss: 0.04294814\n",
      "Epoch: 2 \tTraining Loss: 0.04121414\n",
      "Epoch: 2 \tTraining Loss: 0.03730016\n",
      "Epoch: 2 \tTraining Loss: 0.03516944\n",
      "Epoch: 2 \tTraining Loss: 0.03539156\n",
      "Epoch: 2 \tTraining Loss: 0.03446685\n",
      "Epoch: 2 \tTraining Loss: 0.03475276\n",
      "Epoch: 2 \tTraining Loss: 0.03407682\n",
      "Epoch: 2 \tTraining Loss: 0.03392605\n",
      "Epoch: 3 \tTraining Loss: 0.03134606\n",
      "Epoch: 3 \tTraining Loss: 0.02936937\n",
      "Epoch: 3 \tTraining Loss: 0.02764570\n",
      "Epoch: 3 \tTraining Loss: 0.02725400\n",
      "Epoch: 3 \tTraining Loss: 0.02788585\n",
      "Epoch: 3 \tTraining Loss: 0.02622509\n",
      "Epoch: 3 \tTraining Loss: 0.02816330\n",
      "Epoch: 3 \tTraining Loss: 0.02694436\n",
      "Epoch: 3 \tTraining Loss: 0.02733395\n"
     ]
    }
   ],
   "source": [
    "# training for 3 epochs\n",
    "n_epochs = 3\n",
    "losses = train(capsule_net, criterion, optimizer, n_epochs=n_epochs)"
   ]
  },
  {
   "cell_type": "markdown",
   "metadata": {},
   "source": [
    "### Training loss\n",
    "\n",
    "Here I'll plot the training loss that was recorded intermittently, as specified by `print_every`."
   ]
  },
  {
   "cell_type": "code",
   "execution_count": 28,
   "metadata": {},
   "outputs": [
    {
     "data": {
      "image/png": "[encoded data removed]",
      "text/plain": [
       "<Figure size 432x288 with 1 Axes>"
      ]
     },
     "metadata": {
      "needs_background": "light"
     },
     "output_type": "display_data"
    }
   ],
   "source": [
    "plt.plot(losses)\n",
    "plt.title(\"Training Loss\")\n",
    "plt.show()"
   ]
  },
  {
   "cell_type": "markdown",
   "metadata": {},
   "source": [
    "---\n",
    "# Test the Trained Network\n",
    "\n",
    "In this case, there are two ways to test the trained model: looking at how it classifies test data, and looking at how its reconstructions compare to original input images.\n",
    "\n",
    "## Test Data\n",
    "First, I'll test this model on previously unseen **test data** and evaluate its performance. Testing on unseen data is a good way to check that our model generalizes well. It may also be useful to be granular in this analysis and take a look at how this model performs on each class as well as looking at its overall loss and accuracy.\n"
   ]
  },
  {
   "cell_type": "code",
   "execution_count": 29,
   "metadata": {},
   "outputs": [],
   "source": [
    "def test(capsule_net, test_loader):\n",
    "    '''Prints out test statistics for a given capsule net.\n",
    "       param capsule_net: trained capsule network\n",
    "       param test_loader: test dataloader\n",
    "       return: returns last batch of test image data and corresponding reconstructions\n",
    "       '''\n",
    "    class_correct = list(0. for i in range(10))\n",
    "    class_total = list(0. for i in range(10))\n",
    "    \n",
    "    test_loss = 0 # loss tracking\n",
    "\n",
    "    capsule_net.eval() # eval mode\n",
    "\n",
    "    for batch_i, (images, target) in enumerate(test_loader):\n",
    "        target = torch.eye(10).index_select(dim=0, index=target)\n",
    "\n",
    "        batch_size = images.size(0)\n",
    "\n",
    "        if TRAIN_ON_GPU:\n",
    "            images, target = images.cuda(), target.cuda()\n",
    "\n",
    "        # forward pass: compute predicted outputs by passing inputs to the model\n",
    "        caps_output, reconstructions, y = capsule_net(images)\n",
    "        # calculate the loss\n",
    "        loss = criterion(caps_output, target, images, reconstructions)\n",
    "        # update average test loss \n",
    "        test_loss += loss.item()\n",
    "        # convert output probabilities to predicted class\n",
    "        _, pred = torch.max(y.data.cpu(), 1)\n",
    "        _, target_shape = torch.max(target.data.cpu(), 1)\n",
    "\n",
    "        # compare predictions to true label\n",
    "        correct = np.squeeze(pred.eq(target_shape.data.view_as(pred)))\n",
    "        # calculate test accuracy for each object class\n",
    "        for i in range(batch_size):\n",
    "            label = target_shape.data[i]\n",
    "            class_correct[label] += correct[i].item()\n",
    "            class_total[label] += 1\n",
    "\n",
    "    # avg test loss\n",
    "    avg_test_loss = test_loss/len(test_loader)\n",
    "    print('Test Loss: {:.8f}\\n'.format(avg_test_loss))\n",
    "\n",
    "    for i in range(10):\n",
    "        if class_total[i] > 0:\n",
    "            print('Test Accuracy of %5s: %2d%% (%2d/%2d)' % (\n",
    "                str(i), 100 * class_correct[i] / class_total[i],\n",
    "                np.sum(class_correct[i]), np.sum(class_total[i])))\n",
    "        else:\n",
    "            print('Test Accuracy of %5s: N/A (no training examples)' % (classes[i]))\n",
    "\n",
    "    print('\\nTest Accuracy (Overall): %2d%% (%2d/%2d)' % (\n",
    "        100. * np.sum(class_correct) / np.sum(class_total),\n",
    "        np.sum(class_correct), np.sum(class_total)))\n",
    "    \n",
    "    # return last batch of capsule vectors, images, reconstructions\n",
    "    return caps_output, images, reconstructions"
   ]
  },
  {
   "cell_type": "code",
   "execution_count": 30,
   "metadata": {},
   "outputs": [
    {
     "name": "stdout",
     "output_type": "stream",
     "text": [
      "Test Loss: 0.03364766\n",
      "\n",
      "Test Accuracy of     0: 99% (977/980)\n",
      "Test Accuracy of     1: 99% (1134/1135)\n",
      "Test Accuracy of     2: 99% (1024/1032)\n",
      "Test Accuracy of     3: 98% (995/1010)\n",
      "Test Accuracy of     4: 98% (968/982)\n",
      "Test Accuracy of     5: 99% (888/892)\n",
      "Test Accuracy of     6: 98% (946/958)\n",
      "Test Accuracy of     7: 99% (1019/1028)\n",
      "Test Accuracy of     8: 98% (962/974)\n",
      "Test Accuracy of     9: 98% (992/1009)\n",
      "\n",
      "Test Accuracy (Overall): 99% (9905/10000)\n"
     ]
    }
   ],
   "source": [
    "# call test function and get reconstructed images\n",
    "caps_output, images, reconstructions = test(capsule_net, test_loader)"
   ]
  },
  {
   "cell_type": "markdown",
   "metadata": {
    "collapsed": true
   },
   "source": [
    "## Display Reconstructions\n",
    "\n",
    "Second, I'll display original images and their reconstructions to see how well the decoder trained."
   ]
  },
  {
   "cell_type": "code",
   "execution_count": 31,
   "metadata": {},
   "outputs": [],
   "source": [
    "def display_images(images, reconstructions):\n",
    "    '''Plot one row of original MNIST images and another row (below) \n",
    "       of their reconstructions.'''\n",
    "    # convert to numpy images\n",
    "    images = images.data.cpu().numpy()\n",
    "    reconstructions = reconstructions.view(-1, 1, 28, 28)\n",
    "    reconstructions = reconstructions.data.cpu().numpy()\n",
    "    \n",
    "    # plot the first ten input images and then reconstructed images\n",
    "    fig, axes = plt.subplots(nrows=2, ncols=10, sharex=True, sharey=True, figsize=(26,5))\n",
    "\n",
    "    # input images on top row, reconstructions on bottom\n",
    "    for images, row in zip([images, reconstructions], axes):\n",
    "        for img, ax in zip(images, row):\n",
    "            ax.imshow(np.squeeze(img), cmap='gray')\n",
    "            ax.get_xaxis().set_visible(False)\n",
    "            ax.get_yaxis().set_visible(False)"
   ]
  },
  {
   "cell_type": "code",
   "execution_count": 32,
   "metadata": {},
   "outputs": [
    {
     "data": {
      "image/png": "[encoded data removed]",
      "text/plain": [
       "<Figure size 1872x360 with 20 Axes>"
      ]
     },
     "metadata": {
      "needs_background": "light"
     },
     "output_type": "display_data"
    }
   ],
   "source": [
    "# display original and reconstructed images, in rows\n",
    "display_images(images, reconstructions)"
   ]
  },
  {
   "cell_type": "markdown",
   "metadata": {},
   "source": [
    "I can see that the reconstructions look pretty good! Almost the same as the original images, with a little blurring/smoothing at the edges."
   ]
  },
  {
   "cell_type": "markdown",
   "metadata": {},
   "source": [
    "---\n",
    "## Response to Affine Transformations\n",
    "\n",
    "In the [capsule network paper](https://arxiv.org/pdf/1710.09829.pdf), they have a section that compares the performance of a capsule network and a vanilla CNN. One observation is that a capsule network is more robust to affine transformations in data. That is, even when the network is trained on normal MNIST data, if you then translate or rotate some test data, a trained CapsNet will perform better than a vanilla CNN.\n",
    "\n",
    "From the paper:\n",
    "> Experiments show that each DigitCaps capsule learns a more robust representation for each class than a traditional convolutional network. Because there is natural variance in skew, rotation, style, etc. in hand written digits, the trained CapsNet is moderately robust to small affine transformations of the training data.\n",
    "\n",
    "Their process for creating affine-transformed test data is different than mine, but I wanted to see how well my trained capsule network performed on randomly, affine-transformed data. Below, I am applying an affine transformation that will randomly rotate and image between 0-30 degrees as well as vertically/horizontally translate an image by 10% of the total image height/width."
   ]
  },
  {
   "cell_type": "code",
   "execution_count": 33,
   "metadata": {},
   "outputs": [],
   "source": [
    "# convert data to Tensor *and* perform random affine transformation\n",
    "transform = transforms.Compose(\n",
    "    [transforms.RandomAffine(degrees=30, translate=(0.1,0.1)),\n",
    "     transforms.ToTensor()]\n",
    "    )\n",
    "\n",
    "# test dataset\n",
    "transformed_test_data = datasets.MNIST(root='data', train=False,\n",
    "                                       download=True, transform=transform)\n",
    "\n",
    "# prepare data loader\n",
    "transformed_test_loader = torch.utils.data.DataLoader(transformed_test_data, \n",
    "                                                      batch_size=batch_size,\n",
    "                                                      num_workers=num_workers)"
   ]
  },
  {
   "cell_type": "markdown",
   "metadata": {},
   "source": [
    "### Visualize transformed data\n",
    "\n",
    "You can see that this test data has been randomly rotated and translated."
   ]
  },
  {
   "cell_type": "code",
   "execution_count": 34,
   "metadata": {},
   "outputs": [
    {
     "name": "stderr",
     "output_type": "stream",
     "text": [
      "/var/folders/4d/tc7fvtl52bq1jbztdqv67lz00000gn/T/ipykernel_84309/2121190108.py:9: MatplotlibDeprecationWarning: Passing non-integers as three-element position specification is deprecated since 3.3 and will be removed two minor releases later.\n",
      "  ax = fig.add_subplot(2, batch_size/2, idx+1, xticks=[], yticks=[])\n"
     ]
    },
    {
     "data": {
      "image/png": "[encoded data removed]",
      "text/plain": [
       "<Figure size 1800x288 with 20 Axes>"
      ]
     },
     "metadata": {},
     "output_type": "display_data"
    }
   ],
   "source": [
    "# obtain one batch of test images\n",
    "dataiter = iter(transformed_test_loader)\n",
    "images, labels = dataiter.next()\n",
    "images = images.numpy()\n",
    "\n",
    "# plot the images in the batch, along with the corresponding labels\n",
    "fig = plt.figure(figsize=(25, 4))\n",
    "for idx in np.arange(batch_size):\n",
    "    ax = fig.add_subplot(2, batch_size/2, idx+1, xticks=[], yticks=[])\n",
    "    ax.imshow(np.squeeze(images[idx]), cmap='gray')\n",
    "    # print out the correct label for each image\n",
    "    # .item() gets the value contained in a Tensor\n",
    "    ax.set_title(str(labels[idx].item()))"
   ]
  },
  {
   "cell_type": "markdown",
   "metadata": {},
   "source": [
    "### Testing on transformed test data"
   ]
  },
  {
   "cell_type": "code",
   "execution_count": 35,
   "metadata": {},
   "outputs": [
    {
     "name": "stdout",
     "output_type": "stream",
     "text": [
      "Test Loss: 0.28348770\n",
      "\n",
      "Test Accuracy of     0: 87% (854/980)\n",
      "Test Accuracy of     1: 89% (1017/1135)\n",
      "Test Accuracy of     2: 86% (897/1032)\n",
      "Test Accuracy of     3: 82% (835/1010)\n",
      "Test Accuracy of     4: 76% (747/982)\n",
      "Test Accuracy of     5: 92% (829/892)\n",
      "Test Accuracy of     6: 81% (777/958)\n",
      "Test Accuracy of     7: 78% (809/1028)\n",
      "Test Accuracy of     8: 76% (741/974)\n",
      "Test Accuracy of     9: 77% (782/1009)\n",
      "\n",
      "Test Accuracy (Overall): 82% (8288/10000)\n"
     ]
    }
   ],
   "source": [
    "# call test function and get reconstructed images\n",
    "_, images, reconstructions = test(capsule_net, transformed_test_loader)"
   ]
  },
  {
   "cell_type": "code",
   "execution_count": 36,
   "metadata": {},
   "outputs": [
    {
     "data": {
      "image/png": "[encoded data removed]",
      "text/plain": [
       "<Figure size 1872x360 with 20 Axes>"
      ]
     },
     "metadata": {
      "needs_background": "light"
     },
     "output_type": "display_data"
    }
   ],
   "source": [
    "# original input images\n",
    "display_images(images, reconstructions)"
   ]
  },
  {
   "cell_type": "markdown",
   "metadata": {},
   "source": [
    "You can see that the accuracy is not as good as before, but it did not degrade terribly. It's really interesting to look at the reconstructions to see what mistakes this model is making!\n",
    "\n",
    "* I should note that I did this same test with a vanilla CNN, and got comparable results. The CNN got 85% test accuracy, so I'll need to do a more rigorous test to reveal any major differences between the two models."
   ]
  },
  {
   "cell_type": "markdown",
   "metadata": {},
   "source": [
    "## Capsule Output Vectors\n",
    "\n",
    "Recall that the `DigitCaps` layer outputs vectors of dim 16. It turns out that some of these vector dimensions have learned something about the features that make up each digit. From the paper:\n",
    "> Since we are passing the encoding of only one digit and zeroing out other digits, the dimensions of a digit capsule should learn to span the space of variations in the way digits of that class are instantiated.\n",
    "These variations include stroke thickness, skew and width. They also include digit-specific variations\n",
    "such as the length of the tail of a 2. **We can see what the individual dimensions represent by making\n",
    "use of the decoder network**. \n",
    "\n",
    "Here are some interesting findings from the paper:\n",
    "\n",
    "<img src='assets/perturbed_reconstructions.png' width=70% />\n",
    "\n",
    "Their method was to compute the output vector for a \"correct\" digit capsule and then modify each of the 16 vector dimensions by *perturbing* it; adding some small value in a range `[-0.25, 0.25]` by a factor of `0.05`. I try to replicate this experiment below, to see if I can find a certain vector dimension that corresponds to digit width, line-width, skew, or certain localized features!"
   ]
  },
  {
   "cell_type": "code",
   "execution_count": 26,
   "metadata": {},
   "outputs": [],
   "source": [
    "def vector_analysis(capsule_net, x, select_idx=1):\n",
    "    '''Generates perturbed iage reconstructions given some digit capsule outputs.\n",
    "       param capsule_net: trained capsule network\n",
    "       param x: a batch of digit capsule outputs\n",
    "       param select_idx: selects which image in a batch to analyze, default = 1 \n",
    "       return: list of perturbed, reconstructed images\n",
    "       '''\n",
    "    \n",
    "    classes = (x ** 2).sum(dim=-1) ** 0.5\n",
    "    classes = F.softmax(classes, dim=-1)\n",
    "\n",
    "    # find the capsule with the maximum vector length\n",
    "    # here, vector length indicates the probability of a class' existence\n",
    "    _, max_length_indices = classes.max(dim=1)\n",
    "\n",
    "    # create a sparse class matrix\n",
    "    sparse_matrix = torch.eye(10) # 10 is the number of classes\n",
    "    if TRAIN_ON_GPU:\n",
    "        sparse_matrix = sparse_matrix.cuda()\n",
    "    # get the class scores from the \"correct\" capsule\n",
    "    y = sparse_matrix.index_select(dim=0, index=max_length_indices.data)\n",
    "\n",
    "    # create reconstructed pixels\n",
    "    x = x * y[:, :, None]\n",
    "    \n",
    "    # flatten image into a vector shape (batch_size, vector_dim)\n",
    "    flattened_x = x.view(x.size(0), -1)\n",
    "    # select a single image from a batch to work with\n",
    "    flattened_x = flattened_x[select_idx]\n",
    "    \n",
    "    # track reconstructed images\n",
    "    reconstructed_ims = []\n",
    "    # values to change *one* vector dimension by\n",
    "    perturb_range = np.arange(-0.25, 0.30, 0.05)\n",
    "    \n",
    "    # iterate through 16 vector dims\n",
    "    for k in range(16):\n",
    "        # create a copy of flattened_x to modify\n",
    "        transformed_x = torch.zeros(*flattened_x.size()).cuda()\n",
    "        transformed_x[:] = flattened_x[:]\n",
    "        # iterate through each perturbation value\n",
    "        for j in range(len(perturb_range)):\n",
    "            # for each capsule output\n",
    "            for i in range(10):\n",
    "                transformed_x[k+(16*i)] = flattened_x[k+(16*i)]+perturb_range[j]\n",
    "\n",
    "            # create reconstructed images\n",
    "            reconstructions = capsule_net.decoder.linear_layers(transformed_x)\n",
    "            # reshape into 28x28 image, (batch_size, depth, x, y)\n",
    "            reconstructions = reconstructions.view(-1, 1, 28, 28)\n",
    "            reconstructed_ims.append(reconstructions)\n",
    "    \n",
    "    # return final list of reconstructed ims    \n",
    "    return reconstructed_ims\n",
    "        "
   ]
  },
  {
   "cell_type": "code",
   "execution_count": 27,
   "metadata": {},
   "outputs": [
    {
     "ename": "RuntimeError",
     "evalue": "view size is not compatible with input tensor's size and stride (at least one dimension spans across two contiguous subspaces). Use .reshape(...) instead.",
     "output_type": "error",
     "traceback": [
      "\u001b[0;31m---------------------------------------------------------------------------\u001b[0m",
      "\u001b[0;31mRuntimeError\u001b[0m                              Traceback (most recent call last)",
      "\u001b[0;32m/var/folders/4d/tc7fvtl52bq1jbztdqv67lz00000gn/T/ipykernel_84309/796881125.py\u001b[0m in \u001b[0;36m<module>\u001b[0;34m\u001b[0m\n\u001b[1;32m      1\u001b[0m \u001b[0;31m# call function and get perturbed reconstructions\u001b[0m\u001b[0;34m\u001b[0m\u001b[0;34m\u001b[0m\u001b[0;34m\u001b[0m\u001b[0m\n\u001b[0;32m----> 2\u001b[0;31m \u001b[0mreconstructed_ims\u001b[0m \u001b[0;34m=\u001b[0m \u001b[0mvector_analysis\u001b[0m\u001b[0;34m(\u001b[0m\u001b[0mcapsule_net\u001b[0m\u001b[0;34m,\u001b[0m \u001b[0mcaps_output\u001b[0m\u001b[0;34m,\u001b[0m \u001b[0mselect_idx\u001b[0m\u001b[0;34m=\u001b[0m\u001b[0;36m1\u001b[0m\u001b[0;34m)\u001b[0m\u001b[0;34m\u001b[0m\u001b[0;34m\u001b[0m\u001b[0m\n\u001b[0m",
      "\u001b[0;32m/var/folders/4d/tc7fvtl52bq1jbztdqv67lz00000gn/T/ipykernel_84309/2561371092.py\u001b[0m in \u001b[0;36mvector_analysis\u001b[0;34m(capsule_net, x, select_idx)\u001b[0m\n\u001b[1;32m     25\u001b[0m \u001b[0;34m\u001b[0m\u001b[0m\n\u001b[1;32m     26\u001b[0m     \u001b[0;31m# flatten image into a vector shape (batch_size, vector_dim)\u001b[0m\u001b[0;34m\u001b[0m\u001b[0;34m\u001b[0m\u001b[0;34m\u001b[0m\u001b[0m\n\u001b[0;32m---> 27\u001b[0;31m     \u001b[0mflattened_x\u001b[0m \u001b[0;34m=\u001b[0m \u001b[0mx\u001b[0m\u001b[0;34m.\u001b[0m\u001b[0mview\u001b[0m\u001b[0;34m(\u001b[0m\u001b[0mx\u001b[0m\u001b[0;34m.\u001b[0m\u001b[0msize\u001b[0m\u001b[0;34m(\u001b[0m\u001b[0;36m0\u001b[0m\u001b[0;34m)\u001b[0m\u001b[0;34m,\u001b[0m \u001b[0;34m-\u001b[0m\u001b[0;36m1\u001b[0m\u001b[0;34m)\u001b[0m\u001b[0;34m\u001b[0m\u001b[0;34m\u001b[0m\u001b[0m\n\u001b[0m\u001b[1;32m     28\u001b[0m     \u001b[0;31m# select a single image from a batch to work with\u001b[0m\u001b[0;34m\u001b[0m\u001b[0;34m\u001b[0m\u001b[0;34m\u001b[0m\u001b[0m\n\u001b[1;32m     29\u001b[0m     \u001b[0mflattened_x\u001b[0m \u001b[0;34m=\u001b[0m \u001b[0mflattened_x\u001b[0m\u001b[0;34m[\u001b[0m\u001b[0mselect_idx\u001b[0m\u001b[0;34m]\u001b[0m\u001b[0;34m\u001b[0m\u001b[0;34m\u001b[0m\u001b[0m\n",
      "\u001b[0;31mRuntimeError\u001b[0m: view size is not compatible with input tensor's size and stride (at least one dimension spans across two contiguous subspaces). Use .reshape(...) instead."
     ]
    }
   ],
   "source": [
    "# call function and get perturbed reconstructions\n",
    "reconstructed_ims = vector_analysis(capsule_net, caps_output, select_idx=1)"
   ]
  },
  {
   "cell_type": "markdown",
   "metadata": {},
   "source": [
    "## Display the reconstructions\n",
    "\n",
    "The center image should be the original reconstruction; the five images to the left have negative perturbations and to the right there are 5 images with positive perturbations. \n",
    "\n",
    "* There are 16 rows of images, one for each of the vector dimensions\n",
    "* There are 11 images per row, one for each of the values in `perturb_range` defined above\n",
    "\n",
    "You should see that certain vector dims correspond to certain image properties; line width, skew, localized features, and so on! If you are running this code locally, I'd encourage you to try thin on a different image in a batch (using a different `select_idx`) and checkout the results."
   ]
  },
  {
   "cell_type": "code",
   "execution_count": null,
   "metadata": {},
   "outputs": [],
   "source": [
    "fig = plt.figure(figsize=(10, 20)) # define figsize\n",
    "\n",
    "# display all ims\n",
    "for idx in range(len(reconstructed_ims)):\n",
    "    # convert to numpy images\n",
    "    image = reconstructed_ims[idx]\n",
    "    image = image.detach().cpu().numpy()\n",
    "    # display 16 rows of images\n",
    "    ax = fig.add_subplot(16, len(reconstructed_ims)/16, idx+1, xticks=[], yticks=[])\n",
    "    ax.imshow(image.squeeze(), cmap='gray')\n",
    "    "
   ]
  },
  {
   "cell_type": "markdown",
   "metadata": {},
   "source": [
    "### Further Directions\n",
    "\n",
    "The authors also note that this capsule network is able to perform fairly well in cases of image overlap. For example, it is able to classify two, individual handwritten digits even if they were drawn one on top of the other (images had an average of 80% overlap). This is a challenging computer vision problem that would be interesting to explore.\n",
    "\n",
    "I'd also recommend you take a look at the author's [code in Github](https://github.com/gram-ai/capsule-networks) where they also have an implementation that works with the SVHN dataset."
   ]
  },
  {
   "cell_type": "code",
   "execution_count": null,
   "metadata": {},
   "outputs": [],
   "source": []
  }
 ],
 "metadata": {
  "kernelspec": {
   "display_name": "Python 3 (ipykernel)",
   "language": "python",
   "name": "python3"
  },
  "language_info": {
   "codemirror_mode": {
    "name": "ipython",
    "version": 3
   },
   "file_extension": ".py",
   "mimetype": "text/x-python",
   "name": "python",
   "nbconvert_exporter": "python",
   "pygments_lexer": "ipython3",
   "version": "3.9.6"
  }
 },
 "nbformat": 4,
 "nbformat_minor": 2
}
